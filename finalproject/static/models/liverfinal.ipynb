{
 "cells": [
  {
   "cell_type": "code",
   "execution_count": 1,
   "metadata": {
    "id": "tSGxDV6HkhoH"
   },
   "outputs": [],
   "source": [
    "import pandas as pd\n",
    "from sklearn.model_selection import train_test_split\n",
    "from sklearn.linear_model import LogisticRegression\n",
    "from sklearn.ensemble import RandomForestClassifier\n",
    "from sklearn.neighbors import KNeighborsClassifier\n",
    "from sklearn import svm\n",
    "from sklearn.naive_bayes import GaussianNB  \n",
    "import numpy as np\n",
    "from sklearn.preprocessing import StandardScaler\n",
    "from sklearn.metrics import accuracy_score\n",
    "from sklearn.ensemble import VotingClassifier\n",
    "\n"
   ]
  },
  {
   "cell_type": "code",
   "execution_count": 4,
   "metadata": {
    "colab": {
     "base_uri": "https://localhost:8080/",
     "height": 287
    },
    "id": "JqHtIsVcoXiq",
    "outputId": "6a18e8e3-1270-4d3a-f7d8-62efb8c1873f"
   },
   "outputs": [
    {
     "data": {
      "text/html": [
       "<div>\n",
       "<style scoped>\n",
       "    .dataframe tbody tr th:only-of-type {\n",
       "        vertical-align: middle;\n",
       "    }\n",
       "\n",
       "    .dataframe tbody tr th {\n",
       "        vertical-align: top;\n",
       "    }\n",
       "\n",
       "    .dataframe thead th {\n",
       "        text-align: right;\n",
       "    }\n",
       "</style>\n",
       "<table border=\"1\" class=\"dataframe\">\n",
       "  <thead>\n",
       "    <tr style=\"text-align: right;\">\n",
       "      <th></th>\n",
       "      <th>Age</th>\n",
       "      <th>Gender</th>\n",
       "      <th>TotalBilirubin</th>\n",
       "      <th>DirectBilirubin</th>\n",
       "      <th>AlkphosAlkalinePhosphotase</th>\n",
       "      <th>SgptAlamineAminotransferase</th>\n",
       "      <th>SgotAspartateAminotransferase</th>\n",
       "      <th>TotalProtiens</th>\n",
       "      <th>ALBAlbumin</th>\n",
       "      <th>A/GRatioAlbuminandGlobulin Ratio</th>\n",
       "      <th>Result</th>\n",
       "    </tr>\n",
       "  </thead>\n",
       "  <tbody>\n",
       "    <tr>\n",
       "      <th>0</th>\n",
       "      <td>65.0</td>\n",
       "      <td>Female</td>\n",
       "      <td>0.7</td>\n",
       "      <td>0.1</td>\n",
       "      <td>187.0</td>\n",
       "      <td>16.0</td>\n",
       "      <td>18.0</td>\n",
       "      <td>6.8</td>\n",
       "      <td>3.3</td>\n",
       "      <td>0.90</td>\n",
       "      <td>1</td>\n",
       "    </tr>\n",
       "    <tr>\n",
       "      <th>1</th>\n",
       "      <td>62.0</td>\n",
       "      <td>Male</td>\n",
       "      <td>10.9</td>\n",
       "      <td>5.5</td>\n",
       "      <td>699.0</td>\n",
       "      <td>64.0</td>\n",
       "      <td>100.0</td>\n",
       "      <td>7.5</td>\n",
       "      <td>3.2</td>\n",
       "      <td>0.74</td>\n",
       "      <td>1</td>\n",
       "    </tr>\n",
       "    <tr>\n",
       "      <th>2</th>\n",
       "      <td>62.0</td>\n",
       "      <td>Male</td>\n",
       "      <td>7.3</td>\n",
       "      <td>4.1</td>\n",
       "      <td>490.0</td>\n",
       "      <td>60.0</td>\n",
       "      <td>68.0</td>\n",
       "      <td>7.0</td>\n",
       "      <td>3.3</td>\n",
       "      <td>0.89</td>\n",
       "      <td>1</td>\n",
       "    </tr>\n",
       "    <tr>\n",
       "      <th>3</th>\n",
       "      <td>58.0</td>\n",
       "      <td>Male</td>\n",
       "      <td>1.0</td>\n",
       "      <td>0.4</td>\n",
       "      <td>182.0</td>\n",
       "      <td>14.0</td>\n",
       "      <td>20.0</td>\n",
       "      <td>6.8</td>\n",
       "      <td>3.4</td>\n",
       "      <td>1.00</td>\n",
       "      <td>1</td>\n",
       "    </tr>\n",
       "    <tr>\n",
       "      <th>4</th>\n",
       "      <td>72.0</td>\n",
       "      <td>Male</td>\n",
       "      <td>3.9</td>\n",
       "      <td>2.0</td>\n",
       "      <td>195.0</td>\n",
       "      <td>27.0</td>\n",
       "      <td>59.0</td>\n",
       "      <td>7.3</td>\n",
       "      <td>2.4</td>\n",
       "      <td>0.40</td>\n",
       "      <td>1</td>\n",
       "    </tr>\n",
       "  </tbody>\n",
       "</table>\n",
       "</div>"
      ],
      "text/plain": [
       "    Age  Gender  TotalBilirubin  DirectBilirubin  AlkphosAlkalinePhosphotase  \\\n",
       "0  65.0  Female             0.7              0.1                       187.0   \n",
       "1  62.0    Male            10.9              5.5                       699.0   \n",
       "2  62.0    Male             7.3              4.1                       490.0   \n",
       "3  58.0    Male             1.0              0.4                       182.0   \n",
       "4  72.0    Male             3.9              2.0                       195.0   \n",
       "\n",
       "   SgptAlamineAminotransferase  SgotAspartateAminotransferase  TotalProtiens  \\\n",
       "0                         16.0                           18.0            6.8   \n",
       "1                         64.0                          100.0            7.5   \n",
       "2                         60.0                           68.0            7.0   \n",
       "3                         14.0                           20.0            6.8   \n",
       "4                         27.0                           59.0            7.3   \n",
       "\n",
       "   ALBAlbumin  A/GRatioAlbuminandGlobulin Ratio  Result  \n",
       "0         3.3                              0.90       1  \n",
       "1         3.2                              0.74       1  \n",
       "2         3.3                              0.89       1  \n",
       "3         3.4                              1.00       1  \n",
       "4         2.4                              0.40       1  "
      ]
     },
     "execution_count": 4,
     "metadata": {},
     "output_type": "execute_result"
    }
   ],
   "source": [
    "df = pd.read_csv(\"Liver dataset.csv\",encoding= 'unicode_escape')\n",
    "df.head()"
   ]
  },
  {
   "cell_type": "code",
   "execution_count": 5,
   "metadata": {
    "colab": {
     "base_uri": "https://localhost:8080/",
     "height": 287
    },
    "id": "4MRiHwkMlAua",
    "outputId": "0cd56ab9-3c75-48e9-e6eb-a4c798a78e36"
   },
   "outputs": [
    {
     "data": {
      "text/html": [
       "<div>\n",
       "<style scoped>\n",
       "    .dataframe tbody tr th:only-of-type {\n",
       "        vertical-align: middle;\n",
       "    }\n",
       "\n",
       "    .dataframe tbody tr th {\n",
       "        vertical-align: top;\n",
       "    }\n",
       "\n",
       "    .dataframe thead th {\n",
       "        text-align: right;\n",
       "    }\n",
       "</style>\n",
       "<table border=\"1\" class=\"dataframe\">\n",
       "  <thead>\n",
       "    <tr style=\"text-align: right;\">\n",
       "      <th></th>\n",
       "      <th>Age</th>\n",
       "      <th>Gender</th>\n",
       "      <th>TotalBilirubin</th>\n",
       "      <th>DirectBilirubin</th>\n",
       "      <th>AlkphosAlkalinePhosphotase</th>\n",
       "      <th>SgptAlamineAminotransferase</th>\n",
       "      <th>SgotAspartateAminotransferase</th>\n",
       "      <th>TotalProtiens</th>\n",
       "      <th>ALBAlbumin</th>\n",
       "      <th>A/GRatioAlbuminandGlobulin Ratio</th>\n",
       "      <th>Result</th>\n",
       "    </tr>\n",
       "  </thead>\n",
       "  <tbody>\n",
       "    <tr>\n",
       "      <th>0</th>\n",
       "      <td>65.0</td>\n",
       "      <td>0.0</td>\n",
       "      <td>0.7</td>\n",
       "      <td>0.1</td>\n",
       "      <td>187.0</td>\n",
       "      <td>16.0</td>\n",
       "      <td>18.0</td>\n",
       "      <td>6.8</td>\n",
       "      <td>3.3</td>\n",
       "      <td>0.90</td>\n",
       "      <td>1</td>\n",
       "    </tr>\n",
       "    <tr>\n",
       "      <th>1</th>\n",
       "      <td>62.0</td>\n",
       "      <td>1.0</td>\n",
       "      <td>10.9</td>\n",
       "      <td>5.5</td>\n",
       "      <td>699.0</td>\n",
       "      <td>64.0</td>\n",
       "      <td>100.0</td>\n",
       "      <td>7.5</td>\n",
       "      <td>3.2</td>\n",
       "      <td>0.74</td>\n",
       "      <td>1</td>\n",
       "    </tr>\n",
       "    <tr>\n",
       "      <th>2</th>\n",
       "      <td>62.0</td>\n",
       "      <td>1.0</td>\n",
       "      <td>7.3</td>\n",
       "      <td>4.1</td>\n",
       "      <td>490.0</td>\n",
       "      <td>60.0</td>\n",
       "      <td>68.0</td>\n",
       "      <td>7.0</td>\n",
       "      <td>3.3</td>\n",
       "      <td>0.89</td>\n",
       "      <td>1</td>\n",
       "    </tr>\n",
       "    <tr>\n",
       "      <th>3</th>\n",
       "      <td>58.0</td>\n",
       "      <td>1.0</td>\n",
       "      <td>1.0</td>\n",
       "      <td>0.4</td>\n",
       "      <td>182.0</td>\n",
       "      <td>14.0</td>\n",
       "      <td>20.0</td>\n",
       "      <td>6.8</td>\n",
       "      <td>3.4</td>\n",
       "      <td>1.00</td>\n",
       "      <td>1</td>\n",
       "    </tr>\n",
       "    <tr>\n",
       "      <th>4</th>\n",
       "      <td>72.0</td>\n",
       "      <td>1.0</td>\n",
       "      <td>3.9</td>\n",
       "      <td>2.0</td>\n",
       "      <td>195.0</td>\n",
       "      <td>27.0</td>\n",
       "      <td>59.0</td>\n",
       "      <td>7.3</td>\n",
       "      <td>2.4</td>\n",
       "      <td>0.40</td>\n",
       "      <td>1</td>\n",
       "    </tr>\n",
       "  </tbody>\n",
       "</table>\n",
       "</div>"
      ],
      "text/plain": [
       "    Age  Gender  TotalBilirubin  DirectBilirubin  AlkphosAlkalinePhosphotase  \\\n",
       "0  65.0     0.0             0.7              0.1                       187.0   \n",
       "1  62.0     1.0            10.9              5.5                       699.0   \n",
       "2  62.0     1.0             7.3              4.1                       490.0   \n",
       "3  58.0     1.0             1.0              0.4                       182.0   \n",
       "4  72.0     1.0             3.9              2.0                       195.0   \n",
       "\n",
       "   SgptAlamineAminotransferase  SgotAspartateAminotransferase  TotalProtiens  \\\n",
       "0                         16.0                           18.0            6.8   \n",
       "1                         64.0                          100.0            7.5   \n",
       "2                         60.0                           68.0            7.0   \n",
       "3                         14.0                           20.0            6.8   \n",
       "4                         27.0                           59.0            7.3   \n",
       "\n",
       "   ALBAlbumin  A/GRatioAlbuminandGlobulin Ratio  Result  \n",
       "0         3.3                              0.90       1  \n",
       "1         3.2                              0.74       1  \n",
       "2         3.3                              0.89       1  \n",
       "3         3.4                              1.00       1  \n",
       "4         2.4                              0.40       1  "
      ]
     },
     "execution_count": 5,
     "metadata": {},
     "output_type": "execute_result"
    }
   ],
   "source": [
    "\n",
    "df['Gender'].replace('Female', 0,inplace=True)\n",
    "df['Gender'].replace('Male', 1,inplace=True)\n",
    "new_df = df.copy()\n",
    "df.head()"
   ]
  },
  {
   "cell_type": "code",
   "execution_count": 6,
   "metadata": {
    "colab": {
     "base_uri": "https://localhost:8080/"
    },
    "id": "lqJ5WaqJlPt8",
    "outputId": "1e0051ee-2f7c-41db-975e-ade86f0b083a"
   },
   "outputs": [
    {
     "data": {
      "text/plain": [
       "Age                                   2\n",
       "Gender                              902\n",
       "TotalBilirubin                      648\n",
       "DirectBilirubin                     561\n",
       "AlkphosAlkalinePhosphotase          796\n",
       "SgptAlamineAminotransferase         538\n",
       "SgotAspartateAminotransferase       462\n",
       "TotalProtiens                       463\n",
       "ALBAlbumin                          494\n",
       "A/GRatioAlbuminandGlobulin Ratio    559\n",
       "Result                                0\n",
       "dtype: int64"
      ]
     },
     "execution_count": 6,
     "metadata": {},
     "output_type": "execute_result"
    }
   ],
   "source": [
    "df.isnull().sum()"
   ]
  },
  {
   "cell_type": "code",
   "execution_count": 7,
   "metadata": {
    "colab": {
     "base_uri": "https://localhost:8080/"
    },
    "id": "O36gEdWVlGJa",
    "outputId": "a1cb9f33-5495-4ae7-a9df-b8767265124f"
   },
   "outputs": [
    {
     "name": "stdout",
     "output_type": "stream",
     "text": [
      "<class 'pandas.core.frame.DataFrame'>\n",
      "RangeIndex: 30691 entries, 0 to 30690\n",
      "Data columns (total 11 columns):\n",
      " #   Column                            Non-Null Count  Dtype  \n",
      "---  ------                            --------------  -----  \n",
      " 0   Age                               30689 non-null  float64\n",
      " 1   Gender                            29789 non-null  float64\n",
      " 2   TotalBilirubin                    30043 non-null  float64\n",
      " 3   DirectBilirubin                   30130 non-null  float64\n",
      " 4   AlkphosAlkalinePhosphotase        29895 non-null  float64\n",
      " 5   SgptAlamineAminotransferase       30153 non-null  float64\n",
      " 6   SgotAspartateAminotransferase     30229 non-null  float64\n",
      " 7   TotalProtiens                     30228 non-null  float64\n",
      " 8   ALBAlbumin                        30197 non-null  float64\n",
      " 9   A/GRatioAlbuminandGlobulin Ratio  30132 non-null  float64\n",
      " 10  Result                            30691 non-null  int64  \n",
      "dtypes: float64(10), int64(1)\n",
      "memory usage: 2.6 MB\n",
      "<class 'pandas.core.frame.DataFrame'>\n",
      "RangeIndex: 30691 entries, 0 to 30690\n",
      "Data columns (total 11 columns):\n",
      " #   Column                            Non-Null Count  Dtype  \n",
      "---  ------                            --------------  -----  \n",
      " 0   Age                               30691 non-null  float64\n",
      " 1   Gender                            30691 non-null  float64\n",
      " 2   TotalBilirubin                    30691 non-null  float64\n",
      " 3   DirectBilirubin                   30691 non-null  float64\n",
      " 4   AlkphosAlkalinePhosphotase        30691 non-null  float64\n",
      " 5   SgptAlamineAminotransferase       30691 non-null  float64\n",
      " 6   SgotAspartateAminotransferase     30691 non-null  float64\n",
      " 7   TotalProtiens                     30691 non-null  float64\n",
      " 8   ALBAlbumin                        30691 non-null  float64\n",
      " 9   A/GRatioAlbuminandGlobulin Ratio  30691 non-null  float64\n",
      " 10  Result                            30691 non-null  int64  \n",
      "dtypes: float64(10), int64(1)\n",
      "memory usage: 2.6 MB\n"
     ]
    }
   ],
   "source": [
    "df.info()\n",
    "new_df = df.copy()\n",
    "\n",
    "\n",
    "\n",
    "cols = ['Age','Gender','TotalBilirubin','DirectBilirubin','AlkphosAlkalinePhosphotase','SgptAlamineAminotransferase','SgotAspartateAminotransferase','TotalProtiens','ALBAlbumin','A/GRatioAlbuminandGlobulin Ratio']\n",
    "for i in cols:\n",
    "    new_df[i] = df[i].fillna(df[i].fillna(df[i]).mean())\n",
    "    \n",
    "new_df.info()\n",
    "\n",
    "new_df = np.array(df)\n",
    "x = new_df[:, :-1]\n",
    "y = new_df[:, -1]\n",
    "\n",
    "x= x .astype('int')\n",
    "y= y.astype('int')"
   ]
  },
  {
   "cell_type": "code",
   "execution_count": 12,
   "metadata": {
    "colab": {
     "base_uri": "https://localhost:8080/"
    },
    "id": "94VYf7Phyq0W",
    "outputId": "1d4d85aa-c08a-4a11-9a97-5cbe08dc3b66"
   },
   "outputs": [],
   "source": [
    "x_train,x_test,y_train,y_test = train_test_split(x, y, test_size=0.30,random_state=16)\n",
    "\n",
    "model1 = LogisticRegression()\n",
    "model2 = RandomForestClassifier()\n",
    "model3=  KNeighborsClassifier(n_neighbors=3)\n",
    "model4 = svm.SVC()\n",
    "model5 = GaussianNB() \n",
    "\n",
    "\n",
    "model1 = model1.fit(x_train, y_train)\n",
    "model2 = model2.fit(x_train, y_train)\n",
    "model3 = model3.fit(x_train, y_train)\n",
    "model4 = model4.fit(x_train, y_train)\n",
    "model5 = model5.fit(x_train, y_train)"
   ]
  },
  {
   "cell_type": "code",
   "execution_count": 13,
   "metadata": {
    "colab": {
     "base_uri": "https://localhost:8080/"
    },
    "id": "WtSR6SmtyR6I",
    "outputId": "7bd14627-0327-409d-cc2c-fe6d720d4e54"
   },
   "outputs": [
    {
     "name": "stdout",
     "output_type": "stream",
     "text": [
      "Accuracy: 32.6889661164205\n",
      "Accuracy: 99.66333622936577\n",
      "Accuracy: 95.51476976542136\n",
      "Accuracy: 71.98088618592529\n",
      "Accuracy: 28.160295395308427\n"
     ]
    }
   ],
   "source": [
    "model1_pred = model1.predict(x_test)  #LR\n",
    "model1_acc = accuracy_score(y_test, model1_pred) *100\n",
    "print(\"Accuracy:\",model1_acc)\n",
    " \n",
    "model2_pred = model2.predict(x_test)  #RF\n",
    "model2_acc = accuracy_score(y_test, model2_pred)*100\n",
    "print(\"Accuracy:\",model2_acc)\n",
    "\n",
    "model3_pred = model3.predict(x_test) #KNN\n",
    "model3_acc = accuracy_score(y_test, model3_pred)*100\n",
    "print(\"Accuracy:\",model3_acc)\n",
    "\n",
    "model4_pred = model4.predict(x_test) #SVM\n",
    "model4_acc = accuracy_score(y_test, model4_pred)*100\n",
    "print(\"Accuracy:\",model4_acc)\n",
    "\n",
    "model5_pred = model5.predict(x_test)   #NB\n",
    "model5_acc = accuracy_score(y_test, model5_pred)*100\n",
    "print(\"Accuracy:\",model5_acc)"
   ]
  },
  {
   "cell_type": "code",
   "execution_count": 14,
   "metadata": {
    "colab": {
     "base_uri": "https://localhost:8080/"
    },
    "id": "GMEQAHswySCw",
    "outputId": "ded149a5-3838-4376-9f01-0c1aa9d5f825"
   },
   "outputs": [
    {
     "name": "stdout",
     "output_type": "stream",
     "text": [
      "97.68679409209383\n"
     ]
    }
   ],
   "source": [
    "final_model = VotingClassifier(estimators=[ ('lr', model1), ('rf', model2),('knn', model3),('svn', model4),('nb', model5)], voting='hard' )\n",
    "\n",
    "\n",
    "final_model.fit(x_train,y_train)\n",
    "\n",
    "y_pred = final_model.predict(x_test)\n",
    "\n",
    "vot_acc  = accuracy_score(y_test, y_pred)*100\n",
    "\n",
    "print(vot_acc)"
   ]
  },
  {
   "cell_type": "code",
   "execution_count": 15,
   "metadata": {
    "colab": {
     "base_uri": "https://localhost:8080/",
     "height": 584
    },
    "id": "AQQrloHLyG6G",
    "outputId": "d8193fc5-6d78-4d5c-b1ee-0cb3ea45cf07"
   },
   "outputs": [
    {
     "data": {
      "image/png": "[encoded data removed]",
      "text/plain": [
       "<Figure size 864x576 with 1 Axes>"
      ]
     },
     "metadata": {
      "needs_background": "light"
     },
     "output_type": "display_data"
    }
   ],
   "source": [
    "import matplotlib.pyplot as plt\n",
    "\n",
    "frequencies = [model1_acc,model2_acc,model3_acc,model4_acc,model5_acc,vot_acc]\n",
    "\n",
    "freq_series = pd.Series(frequencies)\n",
    "\n",
    "x_labels = ['LR','RF','KNN','SVM','GNB','Voting Classifier']\n",
    "\n",
    "plt.figure(figsize=(12, 8))\n",
    "ax = freq_series.plot(kind='bar')\n",
    "ax.set_title('Evaluation of ML ')\n",
    "ax.set_xlabel('Classifier!')\n",
    "ax.set_ylabel('Accuracy Range')\n",
    "ax.set_xticklabels(x_labels)\n",
    "\n",
    "\n",
    "def add_value_labels(ax, spacing=5):\n",
    "    for rect in ax.patches:\n",
    "        \n",
    "        y_value = rect.get_height()\n",
    "        x_value = rect.get_x() + rect.get_width() / 2\n",
    "\n",
    "        space = spacing\n",
    "        \n",
    "        va = 'bottom'\n",
    "\n",
    "       \n",
    "        if y_value < 0:\n",
    "            space *= -1\n",
    "            va = 'top'\n",
    "        label = \"{:.1f}\".format(y_value)\n",
    "\n",
    "       \n",
    "        ax.annotate(\n",
    "            label,                      \n",
    "            (x_value, y_value),         \n",
    "            xytext=(0, space),          \n",
    "            textcoords=\"offset points\", \n",
    "            ha='center',                \n",
    "            va=va)                      \n",
    "                                        \n",
    "add_value_labels(ax)\n",
    "plt.show()"
   ]
  },
  {
   "cell_type": "code",
   "execution_count": 16,
   "metadata": {
    "colab": {
     "base_uri": "https://localhost:8080/",
     "height": 296
    },
    "id": "Lw6N832KzNkC",
    "outputId": "e2f76f3f-2299-4be9-cdc7-93515d237c35"
   },
   "outputs": [
    {
     "data": {
      "text/plain": [
       "<sklearn.metrics._plot.confusion_matrix.ConfusionMatrixDisplay at 0x164437d0850>"
      ]
     },
     "execution_count": 16,
     "metadata": {},
     "output_type": "execute_result"
    },
    {
     "data": {
      "image/png": "[encoded data removed]",
      "text/plain": [
       "<Figure size 432x288 with 2 Axes>"
      ]
     },
     "metadata": {
      "needs_background": "light"
     },
     "output_type": "display_data"
    }
   ],
   "source": [
    "from sklearn.metrics import ConfusionMatrixDisplay\n",
    "from sklearn.metrics import accuracy_score, confusion_matrix, classification_report\n",
    "cm=confusion_matrix(y_test,y_pred,labels=[1,2])\n",
    "\n",
    "cm_disp=ConfusionMatrixDisplay(confusion_matrix=cm,display_labels=['No disease','Disease'])\n",
    "cm_disp.plot()"
   ]
  },
  {
   "cell_type": "code",
   "execution_count": 17,
   "metadata": {
    "colab": {
     "base_uri": "https://localhost:8080/"
    },
    "id": "3vlSkQWRzR0S",
    "outputId": "d53612b6-f433-4d03-e3b4-c3f9ad5f0c70"
   },
   "outputs": [
    {
     "name": "stdout",
     "output_type": "stream",
     "text": [
      "Classification report for LR\n",
      "              precision    recall  f1-score   support\n",
      "\n",
      "           1       0.71      0.11      0.19      6615\n",
      "           2       0.28      0.88      0.43      2593\n",
      "\n",
      "    accuracy                           0.33      9208\n",
      "   macro avg       0.49      0.50      0.31      9208\n",
      "weighted avg       0.59      0.33      0.25      9208\n",
      "\n",
      "Classification report for RF\n",
      "              precision    recall  f1-score   support\n",
      "\n",
      "           1       1.00      1.00      1.00      6615\n",
      "           2       1.00      0.99      0.99      2593\n",
      "\n",
      "    accuracy                           1.00      9208\n",
      "   macro avg       1.00      0.99      1.00      9208\n",
      "weighted avg       1.00      1.00      1.00      9208\n",
      "\n",
      "Classification report for KNN\n",
      "              precision    recall  f1-score   support\n",
      "\n",
      "           1       0.97      0.97      0.97      6615\n",
      "           2       0.92      0.92      0.92      2593\n",
      "\n",
      "    accuracy                           0.96      9208\n",
      "   macro avg       0.94      0.94      0.94      9208\n",
      "weighted avg       0.96      0.96      0.96      9208\n",
      "\n",
      "Classification report for SVM\n",
      "              precision    recall  f1-score   support\n",
      "\n",
      "           1       0.72      1.00      0.84      6615\n",
      "           2       0.74      0.01      0.02      2593\n",
      "\n",
      "    accuracy                           0.72      9208\n",
      "   macro avg       0.73      0.50      0.43      9208\n",
      "weighted avg       0.73      0.72      0.61      9208\n",
      "\n",
      "Classification report for NB\n",
      "              precision    recall  f1-score   support\n",
      "\n",
      "           1       0.00      0.00      0.00      6615\n",
      "           2       0.28      1.00      0.44      2593\n",
      "\n",
      "    accuracy                           0.28      9208\n",
      "   macro avg       0.14      0.50      0.22      9208\n",
      "weighted avg       0.08      0.28      0.12      9208\n",
      "\n",
      "Classification report for Ensembling\n"
     ]
    },
    {
     "name": "stderr",
     "output_type": "stream",
     "text": [
      "C:\\Users\\HP\\AppData\\Roaming\\Python\\Python39\\site-packages\\sklearn\\metrics\\_classification.py:1334: UndefinedMetricWarning: Precision and F-score are ill-defined and being set to 0.0 in labels with no predicted samples. Use `zero_division` parameter to control this behavior.\n",
      "  _warn_prf(average, modifier, msg_start, len(result))\n",
      "C:\\Users\\HP\\AppData\\Roaming\\Python\\Python39\\site-packages\\sklearn\\metrics\\_classification.py:1334: UndefinedMetricWarning: Precision and F-score are ill-defined and being set to 0.0 in labels with no predicted samples. Use `zero_division` parameter to control this behavior.\n",
      "  _warn_prf(average, modifier, msg_start, len(result))\n",
      "C:\\Users\\HP\\AppData\\Roaming\\Python\\Python39\\site-packages\\sklearn\\metrics\\_classification.py:1334: UndefinedMetricWarning: Precision and F-score are ill-defined and being set to 0.0 in labels with no predicted samples. Use `zero_division` parameter to control this behavior.\n",
      "  _warn_prf(average, modifier, msg_start, len(result))\n"
     ]
    },
    {
     "name": "stdout",
     "output_type": "stream",
     "text": [
      "              precision    recall  f1-score   support\n",
      "\n",
      "           1       0.98      0.99      0.98      6615\n",
      "           2       0.97      0.95      0.96      2593\n",
      "\n",
      "    accuracy                           0.98      9208\n",
      "   macro avg       0.97      0.97      0.97      9208\n",
      "weighted avg       0.98      0.98      0.98      9208\n",
      "\n"
     ]
    }
   ],
   "source": [
    "print(\"Classification report for LR\")\n",
    "m1=model1.predict(x_test)\n",
    "print(classification_report(y_test, m1))\n",
    "\n",
    "print(\"Classification report for RF\")\n",
    "m2=model2.predict(x_test)\n",
    "print(classification_report(y_test, m2))\n",
    "\n",
    "print(\"Classification report for KNN\")\n",
    "m3=model3.predict(x_test)\n",
    "print(classification_report(y_test, m3))\n",
    "\n",
    "print(\"Classification report for SVM\")\n",
    "m4=model4.predict(x_test)\n",
    "print(classification_report(y_test, m4))\n",
    "\n",
    "print(\"Classification report for NB\")\n",
    "m5=model5.predict(x_test)\n",
    "print(classification_report(y_test, m5))\n",
    "\n",
    "print(\"Classification report for Ensembling\")\n",
    "\n",
    "predictions= final_model.predict(x_test)\n",
    "print(classification_report(y_test, predictions))"
   ]
  },
  {
   "cell_type": "code",
   "execution_count": 18,
   "metadata": {
    "colab": {
     "base_uri": "https://localhost:8080/"
    },
    "id": "cx6pHD570FKd",
    "outputId": "dd08b0fe-37fe-4fe7-b254-5598f955bae7"
   },
   "outputs": [
    {
     "data": {
      "text/plain": [
       "['liver_model']"
      ]
     },
     "execution_count": 18,
     "metadata": {},
     "output_type": "execute_result"
    }
   ],
   "source": [
    "from joblib import dump\n",
    "\n",
    "dump(final_model,'liver_model')\n"
   ]
  },
  {
   "cell_type": "code",
   "execution_count": null,
   "metadata": {},
   "outputs": [],
   "source": []
  },
  {
   "cell_type": "code",
   "execution_count": null,
   "metadata": {},
   "outputs": [],
   "source": []
  },
  {
   "cell_type": "code",
   "execution_count": null,
   "metadata": {},
   "outputs": [],
   "source": []
  },
  {
   "cell_type": "code",
   "execution_count": null,
   "metadata": {},
   "outputs": [],
   "source": []
  },
  {
   "cell_type": "code",
   "execution_count": null,
   "metadata": {},
   "outputs": [],
   "source": []
  }
 ],
 "metadata": {
  "colab": {
   "provenance": []
  },
  "kernelspec": {
   "display_name": "Python 3 (ipykernel)",
   "language": "python",
   "name": "python3"
  },
  "language_info": {
   "codemirror_mode": {
    "name": "ipython",
    "version": 3
   },
   "file_extension": ".py",
   "mimetype": "text/x-python",
   "name": "python",
   "nbconvert_exporter": "python",
   "pygments_lexer": "ipython3",
   "version": "3.9.12"
  }
 },
 "nbformat": 4,
 "nbformat_minor": 1
}
